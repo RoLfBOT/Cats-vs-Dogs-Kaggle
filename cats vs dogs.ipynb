{
 "cells": [
  {
   "cell_type": "code",
   "execution_count": 1,
   "metadata": {
    "collapsed": false
   },
   "outputs": [],
   "source": [
    "import tensorflow as tf\n",
    "sess = tf.InteractiveSession()\n",
    "\n",
    "IMG_SIZE = 50\n",
    "\n",
    "x = tf.placeholder(tf.float32, shape = [None, IMG_SIZE*IMG_SIZE])\n",
    "y_ = tf.placeholder(tf.float32, shape = [None, 2])"
   ]
  },
  {
   "cell_type": "code",
   "execution_count": 2,
   "metadata": {
    "collapsed": true
   },
   "outputs": [],
   "source": [
    "def weight_variable(shape):\n",
    "    initial = tf.truncated_normal(shape,stddev = 0.1)\n",
    "    return tf.Variable(initial)\n",
    "\n",
    "def bias_variable(shape):\n",
    "    initial = tf.constant(0.1,shape = shape)\n",
    "    return tf.Variable(initial)"
   ]
  },
  {
   "cell_type": "code",
   "execution_count": 3,
   "metadata": {
    "collapsed": true
   },
   "outputs": [],
   "source": [
    "def conv2d(x,W):\n",
    "    return tf.nn.conv2d(x,W,strides = [1,1,1,1], padding = 'SAME')\n",
    "\n",
    "def max_pool2x2(x):\n",
    "    return tf.nn.max_pool(x, ksize = [1,2,2,1], strides = [1,2,2,1], padding = 'SAME')"
   ]
  },
  {
   "cell_type": "code",
   "execution_count": 4,
   "metadata": {
    "collapsed": true
   },
   "outputs": [],
   "source": [
    "def get_product_shape(x):\n",
    "    b = 1\n",
    "    list_x = x.get_shape().as_list()\n",
    "    for i in list_x[1:]:\n",
    "        b = b * i\n",
    "        \n",
    "    return b"
   ]
  },
  {
   "cell_type": "code",
   "execution_count": 5,
   "metadata": {
    "collapsed": false
   },
   "outputs": [],
   "source": [
    "def convolution_layer(x,shape):\n",
    "    W_conv1 = weight_variable(shape)\n",
    "    b_conv1 = bias_variable([shape[-1]])\n",
    "    h_conv1 = tf.nn.relu(conv2d(x,W_conv1) + b_conv1)\n",
    "    h_pool1 = max_pool2x2(h_conv1)\n",
    "    \n",
    "    return h_pool1\n",
    "\n",
    "def fully_connected_layer(pool_layer,shape,flatten = False):\n",
    "    W_fc1 = weight_variable([get_product_shape(pool_layer), shape])\n",
    "    b_fc1 = bias_variable([shape])\n",
    "    if flatten == True:\n",
    "        pool_layer = tf.reshape(pool_layer,[-1,get_product_shape(pool_layer)])\n",
    "        \n",
    "    h_fc1 = tf.nn.relu(tf.matmul(pool_layer, W_fc1) + b_fc1)\n",
    "    \n",
    "    return h_fc1"
   ]
  },
  {
   "cell_type": "code",
   "execution_count": 6,
   "metadata": {
    "collapsed": false
   },
   "outputs": [],
   "source": [
    "x_image = tf.reshape(x,[-1,IMG_SIZE,IMG_SIZE,1])\n",
    "conv_layer_1 = convolution_layer(x_image,[5,5,1,32])\n",
    "conv_layer_2 = convolution_layer(conv_layer_1,[5,5,32,64])\n",
    "\n",
    "conv_layer_3 = convolution_layer(conv_layer_2,[5,5,64,32])\n",
    "conv_layer_4 = convolution_layer(conv_layer_3,[5,5,32,64])\n",
    "\n",
    "conv_layer_5 = convolution_layer(conv_layer_4,[5,5,64,32])\n",
    "conv_layer_6 = convolution_layer(conv_layer_5,[5,5,32,64])\n",
    "\n",
    "\n",
    "fc1 = fully_connected_layer(conv_layer_6,1024,flatten = True)\n",
    "\n",
    "keep_prob = tf.placeholder(tf.float32)\n",
    "h_fc1_drop = tf.nn.dropout(fc1,keep_prob)\n",
    "\n",
    "y_conv = fully_connected_layer(h_fc1_drop,2)"
   ]
  },
  {
   "cell_type": "code",
   "execution_count": 7,
   "metadata": {
    "collapsed": false
   },
   "outputs": [],
   "source": [
    "import os\n",
    "import cv2\n",
    "from tqdm import tqdm\n",
    "from random import shuffle\n",
    "import numpy as np\n",
    "\n",
    "TRAIN_DIR = 'C:/Users/kaustabh/Downloads/train/train'\n",
    "TEST_DIR = 'C:/Users/kaustabh/Downloads/test/test'"
   ]
  },
  {
   "cell_type": "code",
   "execution_count": 8,
   "metadata": {
    "collapsed": true
   },
   "outputs": [],
   "source": [
    "def label_img(img):\n",
    "    word_label = img.split('.')[-3]\n",
    "    if word_label == 'cat': return [1,0]\n",
    "    elif word_label == 'dog': return [0,1]"
   ]
  },
  {
   "cell_type": "code",
   "execution_count": 9,
   "metadata": {
    "collapsed": true
   },
   "outputs": [],
   "source": [
    "def create_train_data():\n",
    "    training_data = []\n",
    "    for img in tqdm(os.listdir(TRAIN_DIR)):\n",
    "        label = label_img(img)\n",
    "        path = os.path.join(TRAIN_DIR,img)\n",
    "        img = cv2.resize(cv2.imread(path,cv2.IMREAD_GRAYSCALE), (IMG_SIZE,IMG_SIZE))\n",
    "        training_data.append([np.array(img),np.array(label)])\n",
    "    shuffle(training_data)\n",
    "   \n",
    "    return training_data"
   ]
  },
  {
   "cell_type": "code",
   "execution_count": 10,
   "metadata": {
    "collapsed": false
   },
   "outputs": [],
   "source": [
    "train_data = np.load('train_data.npy')"
   ]
  },
  {
   "cell_type": "code",
   "execution_count": 11,
   "metadata": {
    "collapsed": false
   },
   "outputs": [],
   "source": [
    "X_train = np.array([i[0] for i in train_data]).reshape(-1,IMG_SIZE*IMG_SIZE)\n",
    "Y_train =np.asarray([i[1] for i in train_data])"
   ]
  },
  {
   "cell_type": "code",
   "execution_count": 12,
   "metadata": {
    "collapsed": false
   },
   "outputs": [
    {
     "ename": "ValueError",
     "evalue": "not enough values to unpack (expected 4, got 2)",
     "output_type": "error",
     "traceback": [
      "\u001b[0;31m---------------------------------------------------------------------------\u001b[0m",
      "\u001b[0;31mValueError\u001b[0m                                Traceback (most recent call last)",
      "\u001b[0;32m<ipython-input-12-6b9b24cd1b73>\u001b[0m in \u001b[0;36m<module>\u001b[0;34m()\u001b[0m\n\u001b[1;32m      1\u001b[0m \u001b[0mEPOCH\u001b[0m \u001b[1;33m=\u001b[0m \u001b[1;36m10000\u001b[0m\u001b[1;33m\u001b[0m\u001b[0m\n\u001b[1;32m      2\u001b[0m \u001b[0mBATCH_SIZE\u001b[0m \u001b[1;33m=\u001b[0m \u001b[1;36m100\u001b[0m\u001b[1;33m\u001b[0m\u001b[0m\n\u001b[0;32m----> 3\u001b[0;31m \u001b[0mTRAIN_DATASIZE\u001b[0m\u001b[1;33m,\u001b[0m\u001b[0m_\u001b[0m\u001b[1;33m,\u001b[0m\u001b[0m_\u001b[0m\u001b[1;33m,\u001b[0m\u001b[0m_\u001b[0m \u001b[1;33m=\u001b[0m \u001b[0mX_train\u001b[0m\u001b[1;33m.\u001b[0m\u001b[0mshape\u001b[0m\u001b[1;33m\u001b[0m\u001b[0m\n\u001b[0m\u001b[1;32m      4\u001b[0m \u001b[0mPERIOD\u001b[0m \u001b[1;33m=\u001b[0m \u001b[0mTRAIN_DATASIZE\u001b[0m\u001b[1;33m/\u001b[0m\u001b[0mBATCH_SIZE\u001b[0m\u001b[1;33m\u001b[0m\u001b[0m\n",
      "\u001b[0;31mValueError\u001b[0m: not enough values to unpack (expected 4, got 2)"
     ]
    }
   ],
   "source": [
    "EPOCH = 10000\n",
    "BATCH_SIZE = 100\n",
    "TRAIN_DATASIZE,_,_,_ = X_train.shape\n",
    "PERIOD = TRAIN_DATASIZE/BATCH_SIZE"
   ]
  },
  {
   "cell_type": "code",
   "execution_count": null,
   "metadata": {
    "collapsed": false
   },
   "outputs": [
    {
     "name": "stdout",
     "output_type": "stream",
     "text": [
      "Step 0 Training accuracy 0.47\n"
     ]
    }
   ],
   "source": [
    "cross_entropy = tf.nn.softmax_cross_entropy_with_logits(logits = y_conv, labels = y_)\n",
    "train_step = tf.train.AdamOptimizer(1e-4).minimize(cross_entropy)\n",
    "correct_prediction = tf.equal(tf.argmax(y_conv,1), tf.argmax(y_,1))\n",
    "accuracy = tf.reduce_mean(tf.cast(correct_prediction,tf.float32))\n",
    "j = 0\n",
    "\n",
    "sess.run(tf.global_variables_initializer())\n",
    "for i in range(EPOCH):\n",
    "        \n",
    "    batch_X, batch_Y = next_batch(100,X_train,Y_train)      \n",
    "    if i % 100 == 0:\n",
    "            train_accuracy = accuracy.eval(feed_dict = {x: batch_X, y_: batch_Y, keep_prob: 1.0})\n",
    "            print('Step', i , 'Training accuracy', train_accuracy)\n",
    "    \n",
    "    train_step.run(feed_dict = {x: batch_X, y_: batch_Y, keep_prob: 0.5})     "
   ]
  },
  {
   "cell_type": "code",
   "execution_count": 12,
   "metadata": {
    "collapsed": false
   },
   "outputs": [],
   "source": [
    "def next_batch(num, data, labels):\n",
    "    \n",
    "    idx = np.arange(0 , len(data))\n",
    "    np.random.shuffle(idx)\n",
    "    idx = idx[:num]\n",
    "    data_shuffle = [data[ i] for i in idx]\n",
    "    labels_shuffle = [labels[ i] for i in idx]\n",
    "\n",
    "    return np.asarray(data_shuffle), np.asarray(labels_shuffle)"
   ]
  }
 ],
 "metadata": {
  "anaconda-cloud": {},
  "kernelspec": {
   "display_name": "Python [conda root]",
   "language": "python",
   "name": "conda-root-py"
  },
  "language_info": {
   "codemirror_mode": {
    "name": "ipython",
    "version": 3
   },
   "file_extension": ".py",
   "mimetype": "text/x-python",
   "name": "python",
   "nbconvert_exporter": "python",
   "pygments_lexer": "ipython3",
   "version": "3.5.2"
  }
 },
 "nbformat": 4,
 "nbformat_minor": 1
}
