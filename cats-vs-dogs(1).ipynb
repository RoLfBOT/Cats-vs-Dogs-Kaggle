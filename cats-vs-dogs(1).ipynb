{
 "cells": [
  {
   "cell_type": "code",
   "execution_count": 1,
   "metadata": {
    "collapsed": true
   },
   "outputs": [],
   "source": [
    "import tensorflow as tf\n",
    "import numpy as np\n",
    "import os\n",
    "import cv2\n",
    "from tqdm import tqdm"
   ]
  },
  {
   "cell_type": "code",
   "execution_count": 2,
   "metadata": {
    "collapsed": true
   },
   "outputs": [],
   "source": [
    "from random import shuffle"
   ]
  },
  {
   "cell_type": "code",
   "execution_count": 3,
   "metadata": {},
   "outputs": [],
   "source": [
    "train_data = np.load('/train/train_data.npy')"
   ]
  },
  {
   "cell_type": "code",
   "execution_count": 4,
   "metadata": {},
   "outputs": [],
   "source": [
    "X_train = np.array([i[0] for i in train_data]).reshape(-1, 2500)\n",
    "Y_train = np.array([i[1] for i in train_data])"
   ]
  },
  {
   "cell_type": "code",
   "execution_count": 5,
   "metadata": {
    "collapsed": true
   },
   "outputs": [],
   "source": [
    "X_train = X_train.astype(np.float32)\n",
    "Y_train = Y_train.astype(np.float32)"
   ]
  },
  {
   "cell_type": "code",
   "execution_count": 6,
   "metadata": {
    "collapsed": true
   },
   "outputs": [],
   "source": [
    "def conv2d(x, W, b, strides = 1):\n",
    "    x = tf.nn.conv2d(x, W, strides = [1, strides, strides, 1], padding = 'SAME')\n",
    "    x = tf.nn.bias_add(x, b)\n",
    "    return tf.nn.relu(x)\n",
    "\n",
    "def maxpool2d(x, k = 2):\n",
    "    return tf.nn.max_pool(x, ksize = [1, k, k, 1], strides = [1, k, k, 1], padding = 'SAME')"
   ]
  },
  {
   "cell_type": "code",
   "execution_count": 7,
   "metadata": {
    "collapsed": true
   },
   "outputs": [],
   "source": [
    "def conv_net(x, weights, biases, dropout):\n",
    "      \n",
    "    x = tf.reshape(x, shape=[-1, 50, 50, 1])\n",
    "\n",
    "    # Convolution Layer\n",
    "    conv1 = conv2d(x, weights['wc1'], biases['bc1'])\n",
    "    conv1 = maxpool2d(conv1, k=2)\n",
    "\n",
    "    # Convolution Layer\n",
    "    conv2 = conv2d(conv1, weights['wc2'], biases['bc2'])\n",
    "    conv2 = maxpool2d(conv2, k=2)\n",
    "    \n",
    "    conv3 = conv2d(conv2, weights['wc3'], biases['bc3'])\n",
    "    conv3 = maxpool2d(conv3, k=2)\n",
    "    \n",
    "    conv4 = conv2d(conv3, weights['wc4'], biases['bc4'])\n",
    "    conv4 = maxpool2d(conv4, k=2)\n",
    "    \n",
    "    # Fully connected layer\n",
    "    # Reshape conv2 output to fit fully connected layer input\n",
    "    fc1 = tf.reshape(conv4, [-1, weights['wd1'].get_shape().as_list()[0]])\n",
    "    fc1 = tf.add(tf.matmul(fc1, weights['wd1']), biases['bd1'])\n",
    "    fc1 = tf.nn.relu(fc1)\n",
    "    # Apply Dropout\n",
    "    fc1 = tf.nn.dropout(fc1, dropout)\n",
    "\n",
    "    # Output, class prediction\n",
    "    out = tf.add(tf.matmul(fc1, weights['out']), biases['out'])\n",
    "    return out"
   ]
  },
  {
   "cell_type": "code",
   "execution_count": 8,
   "metadata": {},
   "outputs": [],
   "source": [
    "learning_rate = 0.001\n",
    "training_iters = 200000\n",
    "batch_size = 100\n",
    "display_step = 10\n",
    "\n",
    "# Network Parameters\n",
    "n_input = 2500 # MNIST data input (img shape: 28*28)\n",
    "n_classes = 2 # MNIST total classes (0-9 digits)\n",
    "dropout = 0.75 # Dropout, probability to keep units\n",
    "\n",
    "# tf Graph input\n",
    "X = tf.placeholder(tf.float32, shape = [None, n_input], name = 'X')\n",
    "Y = tf.placeholder(tf.float32, shape = [None, n_classes], name = 'Y')\n",
    "keep_prob = tf.placeholder(tf.float32, name = 'dropout') #dropout (keep probability)"
   ]
  },
  {
   "cell_type": "code",
   "execution_count": 9,
   "metadata": {
    "collapsed": true
   },
   "outputs": [],
   "source": [
    "weights = {\n",
    "    'wc1': tf.Variable(tf.random_normal([5, 5, 1, 32])),\n",
    "    'wc2': tf.Variable(tf.random_normal([5, 5, 32, 64])),\n",
    "    'wc3': tf.Variable(tf.random_normal([5, 5, 64, 32])),\n",
    "    'wc4': tf.Variable(tf.random_normal([5, 5, 32, 64])),\n",
    "    \n",
    "    'wd1': tf.Variable(tf.random_normal([4*4*64, 1024])),\n",
    "    'out': tf.Variable(tf.random_normal([1024, n_classes]))\n",
    "}\n",
    "\n",
    "biases = {\n",
    "    'bc1': tf.Variable(tf.random_normal([32])),\n",
    "    'bc2': tf.Variable(tf.random_normal([64])),\n",
    "    'bc3': tf.Variable(tf.random_normal([32])),\n",
    "    'bc4': tf.Variable(tf.random_normal([64])),\n",
    "    'bd1': tf.Variable(tf.random_normal([1024])),\n",
    "    'out': tf.Variable(tf.random_normal([n_classes]))\n",
    "}\n",
    "\n",
    "# Construct model\n",
    "pred = conv_net(X, weights, biases, keep_prob)\n",
    "\n",
    "# Define loss and optimizer\n",
    "cost = tf.reduce_mean(tf.nn.softmax_cross_entropy_with_logits(logits=pred, labels=Y))\n",
    "optimizer = tf.train.AdamOptimizer(learning_rate=learning_rate).minimize(cost)\n",
    "\n",
    "# Evaluate model\n",
    "correct_pred = tf.equal(tf.argmax(pred, 1), tf.argmax(Y, 1))\n",
    "accuracy = tf.reduce_mean(tf.cast(correct_pred, tf.float32))\n",
    "\n",
    "# Initializing the variables\n",
    "init = tf.global_variables_initializer()"
   ]
  },
  {
   "cell_type": "code",
   "execution_count": 20,
   "metadata": {},
   "outputs": [
    {
     "name": "stdout",
     "output_type": "stream",
     "text": [
      "Iter 1000, Minibatch Loss= 578906048.000000, Training Accuracy= 0.50000\n",
      "Iter 2000, Minibatch Loss= 452219776.000000, Training Accuracy= 0.59000\n",
      "Iter 3000, Minibatch Loss= 504508544.000000, Training Accuracy= 0.57000\n",
      "Iter 4000, Minibatch Loss= 286477920.000000, Training Accuracy= 0.53000\n",
      "Iter 5000, Minibatch Loss= 293801664.000000, Training Accuracy= 0.53000\n",
      "Iter 6000, Minibatch Loss= 144225120.000000, Training Accuracy= 0.60000\n",
      "Iter 7000, Minibatch Loss= 160042736.000000, Training Accuracy= 0.66000\n",
      "Iter 8000, Minibatch Loss= 171133168.000000, Training Accuracy= 0.53000\n",
      "Iter 9000, Minibatch Loss= 127253448.000000, Training Accuracy= 0.60000\n",
      "Iter 10000, Minibatch Loss= 150461536.000000, Training Accuracy= 0.58000\n",
      "Iter 11000, Minibatch Loss= 130674288.000000, Training Accuracy= 0.60000\n",
      "Iter 12000, Minibatch Loss= 121167360.000000, Training Accuracy= 0.62000\n",
      "Iter 13000, Minibatch Loss= 120932608.000000, Training Accuracy= 0.55000\n",
      "Iter 14000, Minibatch Loss= 138566960.000000, Training Accuracy= 0.62000\n",
      "Iter 15000, Minibatch Loss= 91343928.000000, Training Accuracy= 0.61000\n",
      "Iter 16000, Minibatch Loss= 141443184.000000, Training Accuracy= 0.55000\n",
      "Iter 17000, Minibatch Loss= 84267936.000000, Training Accuracy= 0.60000\n",
      "Iter 18000, Minibatch Loss= 87787400.000000, Training Accuracy= 0.61000\n",
      "Iter 19000, Minibatch Loss= 92936752.000000, Training Accuracy= 0.57000\n",
      "Iter 20000, Minibatch Loss= 71087520.000000, Training Accuracy= 0.56000\n",
      "Iter 21000, Minibatch Loss= 63845140.000000, Training Accuracy= 0.57000\n",
      "Iter 22000, Minibatch Loss= 64753768.000000, Training Accuracy= 0.52000\n",
      "Iter 23000, Minibatch Loss= 83708816.000000, Training Accuracy= 0.59000\n",
      "Iter 24000, Minibatch Loss= 48511204.000000, Training Accuracy= 0.57000\n",
      "Iter 25000, Minibatch Loss= 55148112.000000, Training Accuracy= 0.59000\n",
      "Iter 26000, Minibatch Loss= 53753368.000000, Training Accuracy= 0.58000\n",
      "Iter 27000, Minibatch Loss= 40069884.000000, Training Accuracy= 0.63000\n",
      "Iter 28000, Minibatch Loss= 55594356.000000, Training Accuracy= 0.51000\n",
      "Iter 29000, Minibatch Loss= 45980688.000000, Training Accuracy= 0.58000\n",
      "Iter 30000, Minibatch Loss= 30954164.000000, Training Accuracy= 0.59000\n",
      "Iter 31000, Minibatch Loss= 37578308.000000, Training Accuracy= 0.58000\n",
      "Iter 32000, Minibatch Loss= 27613856.000000, Training Accuracy= 0.49000\n",
      "Iter 33000, Minibatch Loss= 21029718.000000, Training Accuracy= 0.60000\n",
      "Iter 34000, Minibatch Loss= 28388334.000000, Training Accuracy= 0.55000\n",
      "Iter 35000, Minibatch Loss= 18245434.000000, Training Accuracy= 0.56000\n",
      "Iter 36000, Minibatch Loss= 22249598.000000, Training Accuracy= 0.57000\n",
      "Iter 37000, Minibatch Loss= 23507584.000000, Training Accuracy= 0.57000\n",
      "Iter 38000, Minibatch Loss= 18543120.000000, Training Accuracy= 0.63000\n",
      "Iter 39000, Minibatch Loss= 20265400.000000, Training Accuracy= 0.52000\n",
      "Iter 40000, Minibatch Loss= 15807035.000000, Training Accuracy= 0.54000\n",
      "Iter 41000, Minibatch Loss= 13783104.000000, Training Accuracy= 0.56000\n",
      "Iter 42000, Minibatch Loss= 11144720.000000, Training Accuracy= 0.56000\n",
      "Iter 43000, Minibatch Loss= 10925736.000000, Training Accuracy= 0.63000\n",
      "Iter 44000, Minibatch Loss= 13824427.000000, Training Accuracy= 0.60000\n",
      "Iter 45000, Minibatch Loss= 10763187.000000, Training Accuracy= 0.60000\n",
      "Iter 46000, Minibatch Loss= 8686419.000000, Training Accuracy= 0.66000\n",
      "Iter 47000, Minibatch Loss= 9465052.000000, Training Accuracy= 0.52000\n",
      "Iter 48000, Minibatch Loss= 12057051.000000, Training Accuracy= 0.46000\n",
      "Iter 49000, Minibatch Loss= 10168560.000000, Training Accuracy= 0.62000\n",
      "Iter 50000, Minibatch Loss= 6610628.000000, Training Accuracy= 0.62000\n",
      "Iter 51000, Minibatch Loss= 7863606.500000, Training Accuracy= 0.57000\n",
      "Iter 52000, Minibatch Loss= 8404958.000000, Training Accuracy= 0.58000\n",
      "Iter 53000, Minibatch Loss= 9481828.000000, Training Accuracy= 0.50000\n",
      "Iter 54000, Minibatch Loss= 6058278.000000, Training Accuracy= 0.52000\n",
      "Iter 55000, Minibatch Loss= 4992309.000000, Training Accuracy= 0.54000\n",
      "Iter 56000, Minibatch Loss= 4813229.000000, Training Accuracy= 0.50000\n",
      "Iter 57000, Minibatch Loss= 4739273.000000, Training Accuracy= 0.53000\n",
      "Iter 58000, Minibatch Loss= 4952015.000000, Training Accuracy= 0.51000\n",
      "Iter 59000, Minibatch Loss= 4260434.000000, Training Accuracy= 0.48000\n",
      "Iter 60000, Minibatch Loss= 5420960.500000, Training Accuracy= 0.54000\n",
      "Iter 61000, Minibatch Loss= 4248159.000000, Training Accuracy= 0.62000\n",
      "Iter 62000, Minibatch Loss= 3977163.000000, Training Accuracy= 0.48000\n",
      "Iter 63000, Minibatch Loss= 4261812.500000, Training Accuracy= 0.48000\n",
      "Iter 64000, Minibatch Loss= 5256446.500000, Training Accuracy= 0.50000\n",
      "Iter 65000, Minibatch Loss= 2217990.250000, Training Accuracy= 0.56000\n",
      "Iter 66000, Minibatch Loss= 2344430.000000, Training Accuracy= 0.54000\n",
      "Iter 67000, Minibatch Loss= 4041050.750000, Training Accuracy= 0.46000\n",
      "Iter 68000, Minibatch Loss= 3939976.000000, Training Accuracy= 0.52000\n",
      "Iter 69000, Minibatch Loss= 1955971.000000, Training Accuracy= 0.56000\n",
      "Iter 70000, Minibatch Loss= 3845584.750000, Training Accuracy= 0.52000\n",
      "Iter 71000, Minibatch Loss= 4228635.500000, Training Accuracy= 0.41000\n",
      "Iter 72000, Minibatch Loss= 1944952.500000, Training Accuracy= 0.47000\n",
      "Iter 73000, Minibatch Loss= 1479539.500000, Training Accuracy= 0.56000\n",
      "Iter 74000, Minibatch Loss= 2578474.000000, Training Accuracy= 0.52000\n",
      "Iter 75000, Minibatch Loss= 1550396.750000, Training Accuracy= 0.59000\n",
      "Iter 76000, Minibatch Loss= 1332943.750000, Training Accuracy= 0.61000\n",
      "Iter 77000, Minibatch Loss= 3023199.250000, Training Accuracy= 0.44000\n",
      "Iter 78000, Minibatch Loss= 946476.437500, Training Accuracy= 0.55000\n",
      "Iter 79000, Minibatch Loss= 945801.937500, Training Accuracy= 0.54000\n",
      "Iter 80000, Minibatch Loss= 1493247.250000, Training Accuracy= 0.52000\n",
      "Iter 81000, Minibatch Loss= 1475845.375000, Training Accuracy= 0.52000\n",
      "Iter 82000, Minibatch Loss= 1334949.375000, Training Accuracy= 0.58000\n",
      "Iter 83000, Minibatch Loss= 2866252.500000, Training Accuracy= 0.53000\n",
      "Iter 84000, Minibatch Loss= 1368020.625000, Training Accuracy= 0.48000\n",
      "Iter 85000, Minibatch Loss= 1745835.250000, Training Accuracy= 0.55000\n",
      "Iter 86000, Minibatch Loss= 739404.000000, Training Accuracy= 0.57000\n",
      "Iter 87000, Minibatch Loss= 2138521.250000, Training Accuracy= 0.49000\n",
      "Iter 88000, Minibatch Loss= 1869310.125000, Training Accuracy= 0.56000\n",
      "Iter 89000, Minibatch Loss= 994492.000000, Training Accuracy= 0.56000\n",
      "Iter 90000, Minibatch Loss= 1203326.625000, Training Accuracy= 0.51000\n",
      "Iter 91000, Minibatch Loss= 971425.937500, Training Accuracy= 0.64000\n",
      "Iter 92000, Minibatch Loss= 2305051.500000, Training Accuracy= 0.49000\n",
      "Iter 93000, Minibatch Loss= 582086.937500, Training Accuracy= 0.59000\n",
      "Iter 94000, Minibatch Loss= 1836444.250000, Training Accuracy= 0.44000\n",
      "Iter 95000, Minibatch Loss= 1079485.875000, Training Accuracy= 0.48000\n",
      "Iter 96000, Minibatch Loss= 1818721.500000, Training Accuracy= 0.44000\n",
      "Iter 97000, Minibatch Loss= 1072169.750000, Training Accuracy= 0.38000\n",
      "Iter 98000, Minibatch Loss= 1273801.125000, Training Accuracy= 0.54000\n",
      "Iter 99000, Minibatch Loss= 550242.437500, Training Accuracy= 0.60000\n",
      "Iter 100000, Minibatch Loss= 711892.812500, Training Accuracy= 0.56000\n",
      "Iter 101000, Minibatch Loss= 1098757.000000, Training Accuracy= 0.41000\n",
      "Iter 102000, Minibatch Loss= 891942.062500, Training Accuracy= 0.58000\n",
      "Iter 103000, Minibatch Loss= 387993.312500, Training Accuracy= 0.54000\n",
      "Iter 104000, Minibatch Loss= 353695.812500, Training Accuracy= 0.58000\n",
      "Iter 105000, Minibatch Loss= 696526.000000, Training Accuracy= 0.41000\n",
      "Iter 106000, Minibatch Loss= 760883.062500, Training Accuracy= 0.44000\n",
      "Iter 107000, Minibatch Loss= 629319.187500, Training Accuracy= 0.55000\n",
      "Iter 108000, Minibatch Loss= 887642.750000, Training Accuracy= 0.55000\n",
      "Iter 109000, Minibatch Loss= 266255.562500, Training Accuracy= 0.47000\n",
      "Iter 110000, Minibatch Loss= 1257024.625000, Training Accuracy= 0.62000\n",
      "Iter 111000, Minibatch Loss= 564089.000000, Training Accuracy= 0.59000\n",
      "Iter 112000, Minibatch Loss= 354815.906250, Training Accuracy= 0.55000\n",
      "Iter 113000, Minibatch Loss= 530417.875000, Training Accuracy= 0.52000\n",
      "Iter 114000, Minibatch Loss= 966325.062500, Training Accuracy= 0.50000\n",
      "Iter 115000, Minibatch Loss= 881135.062500, Training Accuracy= 0.45000\n"
     ]
    },
    {
     "name": "stdout",
     "output_type": "stream",
     "text": [
      "Iter 116000, Minibatch Loss= 838410.375000, Training Accuracy= 0.49000\n",
      "Iter 117000, Minibatch Loss= 766181.875000, Training Accuracy= 0.50000\n",
      "Iter 118000, Minibatch Loss= 323360.125000, Training Accuracy= 0.48000\n",
      "Iter 119000, Minibatch Loss= 587101.750000, Training Accuracy= 0.58000\n",
      "Iter 120000, Minibatch Loss= 1210474.875000, Training Accuracy= 0.47000\n",
      "Iter 121000, Minibatch Loss= 1026712.062500, Training Accuracy= 0.56000\n",
      "Iter 122000, Minibatch Loss= 697859.750000, Training Accuracy= 0.49000\n",
      "Iter 123000, Minibatch Loss= 545647.687500, Training Accuracy= 0.55000\n",
      "Iter 124000, Minibatch Loss= 507195.031250, Training Accuracy= 0.43000\n",
      "Iter 125000, Minibatch Loss= 432602.656250, Training Accuracy= 0.59000\n",
      "Iter 126000, Minibatch Loss= 97750.164062, Training Accuracy= 0.60000\n",
      "Iter 127000, Minibatch Loss= 509658.906250, Training Accuracy= 0.55000\n",
      "Iter 128000, Minibatch Loss= 1529227.500000, Training Accuracy= 0.46000\n",
      "Iter 129000, Minibatch Loss= 175068.640625, Training Accuracy= 0.61000\n",
      "Iter 130000, Minibatch Loss= 918391.125000, Training Accuracy= 0.55000\n",
      "Iter 131000, Minibatch Loss= 77288.890625, Training Accuracy= 0.58000\n",
      "Iter 132000, Minibatch Loss= 529139.250000, Training Accuracy= 0.50000\n",
      "Iter 133000, Minibatch Loss= 600645.437500, Training Accuracy= 0.57000\n",
      "Iter 134000, Minibatch Loss= 1036610.312500, Training Accuracy= 0.51000\n",
      "Iter 135000, Minibatch Loss= 235974.546875, Training Accuracy= 0.52000\n",
      "Iter 136000, Minibatch Loss= 210401.281250, Training Accuracy= 0.45000\n",
      "Iter 137000, Minibatch Loss= 113075.617188, Training Accuracy= 0.54000\n",
      "Iter 138000, Minibatch Loss= 10204.458984, Training Accuracy= 0.55000\n",
      "Iter 139000, Minibatch Loss= 197662.296875, Training Accuracy= 0.48000\n",
      "Iter 140000, Minibatch Loss= 237903.140625, Training Accuracy= 0.58000\n",
      "Iter 141000, Minibatch Loss= 393235.656250, Training Accuracy= 0.43000\n",
      "Iter 142000, Minibatch Loss= 820367.000000, Training Accuracy= 0.52000\n",
      "Iter 143000, Minibatch Loss= 301008.531250, Training Accuracy= 0.53000\n",
      "Iter 144000, Minibatch Loss= 482048.968750, Training Accuracy= 0.48000\n",
      "Iter 145000, Minibatch Loss= 285633.062500, Training Accuracy= 0.52000\n",
      "Iter 146000, Minibatch Loss= 733033.187500, Training Accuracy= 0.54000\n",
      "Iter 147000, Minibatch Loss= 327550.906250, Training Accuracy= 0.54000\n",
      "Iter 148000, Minibatch Loss= 216231.656250, Training Accuracy= 0.66000\n",
      "Iter 149000, Minibatch Loss= 250545.171875, Training Accuracy= 0.49000\n",
      "Iter 150000, Minibatch Loss= 1066405.000000, Training Accuracy= 0.48000\n",
      "Iter 151000, Minibatch Loss= 68254.984375, Training Accuracy= 0.64000\n",
      "Iter 152000, Minibatch Loss= 70641.484375, Training Accuracy= 0.61000\n",
      "Iter 153000, Minibatch Loss= 59644.832031, Training Accuracy= 0.49000\n",
      "Iter 154000, Minibatch Loss= 308638.531250, Training Accuracy= 0.53000\n",
      "Iter 155000, Minibatch Loss= 138309.593750, Training Accuracy= 0.50000\n",
      "Iter 156000, Minibatch Loss= 115856.726562, Training Accuracy= 0.44000\n",
      "Iter 157000, Minibatch Loss= 65224.691406, Training Accuracy= 0.44000\n",
      "Iter 158000, Minibatch Loss= 169294.156250, Training Accuracy= 0.49000\n",
      "Iter 159000, Minibatch Loss= 86417.453125, Training Accuracy= 0.54000\n",
      "Iter 160000, Minibatch Loss= 34351.722656, Training Accuracy= 0.67000\n",
      "Iter 161000, Minibatch Loss= 113207.234375, Training Accuracy= 0.47000\n",
      "Iter 162000, Minibatch Loss= 55465.792969, Training Accuracy= 0.45000\n",
      "Iter 163000, Minibatch Loss= 82622.765625, Training Accuracy= 0.49000\n",
      "Iter 164000, Minibatch Loss= 333763.375000, Training Accuracy= 0.54000\n",
      "Iter 165000, Minibatch Loss= 584643.875000, Training Accuracy= 0.57000\n",
      "Iter 166000, Minibatch Loss= 766270.000000, Training Accuracy= 0.53000\n",
      "Iter 167000, Minibatch Loss= 105564.773438, Training Accuracy= 0.53000\n",
      "Iter 168000, Minibatch Loss= 146606.062500, Training Accuracy= 0.48000\n",
      "Iter 169000, Minibatch Loss= 6355.187500, Training Accuracy= 0.59000\n",
      "Iter 170000, Minibatch Loss= 654516.625000, Training Accuracy= 0.46000\n",
      "Iter 171000, Minibatch Loss= 456947.781250, Training Accuracy= 0.55000\n",
      "Iter 172000, Minibatch Loss= 243622.750000, Training Accuracy= 0.50000\n",
      "Iter 173000, Minibatch Loss= 169191.312500, Training Accuracy= 0.52000\n",
      "Iter 174000, Minibatch Loss= 23227.851562, Training Accuracy= 0.45000\n",
      "Iter 175000, Minibatch Loss= 124672.132812, Training Accuracy= 0.46000\n",
      "Iter 176000, Minibatch Loss= 53726.914062, Training Accuracy= 0.58000\n",
      "Iter 177000, Minibatch Loss= 361522.156250, Training Accuracy= 0.52000\n",
      "Iter 178000, Minibatch Loss= 177755.968750, Training Accuracy= 0.59000\n",
      "Iter 179000, Minibatch Loss= 75157.421875, Training Accuracy= 0.54000\n",
      "Iter 180000, Minibatch Loss= 356073.375000, Training Accuracy= 0.46000\n",
      "Iter 181000, Minibatch Loss= 107896.609375, Training Accuracy= 0.57000\n",
      "Iter 182000, Minibatch Loss= 107873.960938, Training Accuracy= 0.52000\n",
      "Iter 183000, Minibatch Loss= 50521.125000, Training Accuracy= 0.59000\n",
      "Iter 184000, Minibatch Loss= 120569.257812, Training Accuracy= 0.53000\n",
      "Iter 185000, Minibatch Loss= 112749.015625, Training Accuracy= 0.58000\n",
      "Iter 186000, Minibatch Loss= 180209.000000, Training Accuracy= 0.51000\n",
      "Iter 187000, Minibatch Loss= 89425.718750, Training Accuracy= 0.47000\n",
      "Iter 188000, Minibatch Loss= 32227.931641, Training Accuracy= 0.50000\n",
      "Iter 189000, Minibatch Loss= 214807.890625, Training Accuracy= 0.48000\n",
      "Iter 190000, Minibatch Loss= 173553.531250, Training Accuracy= 0.53000\n",
      "Iter 191000, Minibatch Loss= 46085.078125, Training Accuracy= 0.48000\n",
      "Iter 192000, Minibatch Loss= 100753.796875, Training Accuracy= 0.62000\n",
      "Iter 193000, Minibatch Loss= 241233.343750, Training Accuracy= 0.61000\n",
      "Iter 194000, Minibatch Loss= 23462.968750, Training Accuracy= 0.56000\n",
      "Iter 195000, Minibatch Loss= 80890.671875, Training Accuracy= 0.57000\n",
      "Iter 196000, Minibatch Loss= 8246.258789, Training Accuracy= 0.51000\n",
      "Iter 197000, Minibatch Loss= 11247.412109, Training Accuracy= 0.53000\n",
      "Iter 198000, Minibatch Loss= 162959.875000, Training Accuracy= 0.45000\n",
      "Iter 199000, Minibatch Loss= 15685.260742, Training Accuracy= 0.56000\n",
      "Optimization Finished!\n"
     ]
    }
   ],
   "source": [
    "with tf.Session() as sess:\n",
    "    sess.run(init)\n",
    "    step = 1\n",
    "    while step * batch_size < training_iters:\n",
    "        \n",
    "        batch_x, batch_y = next_batch(batch_size, step - 1)\n",
    "        sess.run(optimizer, feed_dict ={X: batch_x, Y: batch_y, keep_prob: dropout})\n",
    "        \n",
    "        if step % display_step == 0:\n",
    "            loss, acc = sess.run([cost, accuracy], feed_dict = {X: batch_x, Y: batch_y, keep_prob: 1.})\n",
    "            \n",
    "            print(\"Iter \" + str(step*batch_size) + \", Minibatch Loss= \" + \\\n",
    "                  \"{:.6f}\".format(loss) + \", Training Accuracy= \" + \\\n",
    "                  \"{:.5f}\".format(acc))\n",
    "        step += 1\n",
    "    \n",
    "    print(\"Optimization Finished!\")"
   ]
  },
  {
   "cell_type": "code",
   "execution_count": 19,
   "metadata": {},
   "outputs": [],
   "source": [
    "idxs = np.random.permutation(range(len(X_train)))\n",
    "\n",
    "def next_batch(size, num): \n",
    "    global idxs\n",
    "    num = num % 250\n",
    "    if num == 0:\n",
    "        idxs = np.random.permutation(range(len(X_train)))\n",
    "    idxs_i = idxs[num * size : (num + 1) * size]\n",
    "    return X_train[idxs_i], Y_train[idxs_i]"
   ]
  },
  {
   "cell_type": "code",
   "execution_count": 14,
   "metadata": {
    "collapsed": true
   },
   "outputs": [],
   "source": [
    "a, b = next_batch(100, 250)\n",
    "c, d = next_batch(100,1)"
   ]
  },
  {
   "cell_type": "code",
   "execution_count": 17,
   "metadata": {},
   "outputs": [],
   "source": [
    "assert(a.all() == c.all())"
   ]
  },
  {
   "cell_type": "code",
   "execution_count": 18,
   "metadata": {},
   "outputs": [
    {
     "data": {
      "text/plain": [
       "1"
      ]
     },
     "execution_count": 18,
     "metadata": {},
     "output_type": "execute_result"
    }
   ],
   "source": [
    "3 % 2"
   ]
  }
 ],
 "metadata": {
  "kernelspec": {
   "display_name": "Python 3",
   "language": "python",
   "name": "python3"
  },
  "language_info": {
   "codemirror_mode": {
    "name": "ipython",
    "version": 3
   },
   "file_extension": ".py",
   "mimetype": "text/x-python",
   "name": "python",
   "nbconvert_exporter": "python",
   "pygments_lexer": "ipython3",
   "version": "3.5.3"
  }
 },
 "nbformat": 4,
 "nbformat_minor": 2
}
